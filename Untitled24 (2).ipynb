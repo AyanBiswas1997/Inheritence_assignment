{
 "cells": [
  {
   "cell_type": "code",
   "execution_count": 1,
   "id": "f381dbaa-297e-42c4-8808-97ff8cb013c4",
   "metadata": {},
   "outputs": [
    {
     "data": {
      "text/plain": [
       "2"
      ]
     },
     "execution_count": 1,
     "metadata": {},
     "output_type": "execute_result"
    }
   ],
   "source": [
    "1+1"
   ]
  },
  {
   "cell_type": "markdown",
   "id": "2dc378cc-84ac-4dbc-ac3d-519a0fa74d21",
   "metadata": {},
   "source": [
    "6. Create a base class called \"Vehicle\" with attributes like \"make\", \"model\", and \"year\".\r\n",
    "Then, create a derived class called \"Car\" that inherits from \"Vehicle\" and adds an\r\n",
    "attribute called \"fuel_type\". Implement appropriate methods in both classes."
   ]
  },
  {
   "cell_type": "code",
   "execution_count": 3,
   "id": "d8ff19c1-4203-4fbf-8a64-76d68cf7345d",
   "metadata": {},
   "outputs": [],
   "source": [
    "class vechile():\n",
    "    def __init__(self,make,model,year):\n",
    "        self.make=make\n",
    "        self.model=model\n",
    "        self.year=year\n",
    "class car(vechile):\n",
    "    def __init__(self,make,model,year,fuel_type):\n",
    "        super().__init__(make,model,year)\n",
    "        self.fuel_type=fuel_type\n",
    "    def output(self):\n",
    "        print(f\"The making company of the vechile is {self.make} model is {self.model} it launched at {self.year}\")"
   ]
  },
  {
   "cell_type": "code",
   "execution_count": 5,
   "id": "1e0c1239-8345-4b9c-9453-5130574d3b10",
   "metadata": {},
   "outputs": [],
   "source": [
    "car1=car(\"t78hy8\",\"Toyota\",\"2017\",\"Engine\")"
   ]
  },
  {
   "cell_type": "code",
   "execution_count": 6,
   "id": "1ce0caa6-d4f8-4c00-b371-05bdeb85b0df",
   "metadata": {},
   "outputs": [
    {
     "name": "stdout",
     "output_type": "stream",
     "text": [
      "The making company of the vechile is t78hy8 model is Toyota it launched at 2017\n"
     ]
    }
   ],
   "source": [
    "car1.output()"
   ]
  },
  {
   "cell_type": "markdown",
   "id": "4e3187bc-5777-4030-bdc1-a7235e6b86c6",
   "metadata": {},
   "source": [
    "7.Create a base class called \"Employee\" with attributes like \"name\" and \"salary.\"\r\n",
    "Derive two classes, \"Manager\" and \"Developer,\" from \"Employee.\" Add an additional\r\n",
    "attribute called \"department\" for the \"Manager\" class and \"programming_language\"\r\n",
    "for the \"Developer\" class."
   ]
  },
  {
   "cell_type": "code",
   "execution_count": 21,
   "id": "6c75c85e-56ee-469f-92af-128be71ade63",
   "metadata": {},
   "outputs": [],
   "source": [
    "class Employee():\n",
    "    def __init__(self,name,salary):\n",
    "        self.name=name\n",
    "        self.salary=salary\n",
    "class manager(Employee):\n",
    "    def __init__(self,name,salary,department):\n",
    "        super().__init__(name,salary)\n",
    "        self.department=department\n",
    "class Devoloper(manager):\n",
    "    def __init__(self,name,salary,department,programming_language):\n",
    "        super().__init__(name,salary,department)\n",
    "        self.programming_language=programming_language\n",
    "    def display_info(self):\n",
    "        print(f\"The name of the devoloper is {self.name} and His salary is {self.salary} his depertment is {self.department} recently he work with {self.programming_language}\")\n",
    "                \n",
    "        \n",
    "    "
   ]
  },
  {
   "cell_type": "code",
   "execution_count": 60,
   "id": "4969af39-cfca-4238-a956-f8ad436f82d8",
   "metadata": {},
   "outputs": [],
   "source": [
    "devoloper1=Devoloper(\"Ayan Biswas\",\"90000\",\"Data science\",\"python\")"
   ]
  },
  {
   "cell_type": "code",
   "execution_count": 61,
   "id": "206b0238-1837-4195-8b34-32ea5f1d2d76",
   "metadata": {},
   "outputs": [
    {
     "name": "stdout",
     "output_type": "stream",
     "text": [
      "The name of the devoloper is Ayan Biswas and His salary is 90000 his depertment is Data science recently he work with python\n"
     ]
    }
   ],
   "source": [
    "devoloper1.display_info()"
   ]
  },
  {
   "cell_type": "markdown",
   "id": "12af04ac-888b-4356-8f8e-54d3d105c408",
   "metadata": {},
   "source": [
    "8.Design a base class called \"Shape\" with attributes like \"colour\" and \"border_width.\"\r\n",
    "Create derived classes, \"Rectangle\" and \"Circle,\" that inherit from \"Shape\" and add\r\n",
    "specific attributes like \"length\" and \"width\" for the \"Rectangle\" class and \"radius\" for\r\n",
    "the \"Circle\" class."
   ]
  },
  {
   "cell_type": "code",
   "execution_count": 73,
   "id": "8d969a34-dd92-4f95-9a7c-24a391142a62",
   "metadata": {},
   "outputs": [],
   "source": [
    "class shape():\n",
    "    def __init__(self,colour,border_width):\n",
    "        self.colour=colour\n",
    "        self.border_width=border_width\n",
    "class rectangle(shape):\n",
    "    def __init__(self,colour,border_width,length):\n",
    "        super().__init__(colour,border_width)\n",
    "        self.length=length\n",
    "class circle(rectangle):\n",
    "    def __init__(self,colour,border_width,length,radious):\n",
    "        super().__init__(colour,border_width,length)\n",
    "        self.radious=radious\n",
    "    def display(self):\n",
    "        print(f\"The colour of circle is {self.colour}  and border type is {self.border_width} length of circle {self.length}  and the radious is {self.radious}\")\n"
   ]
  },
  {
   "cell_type": "code",
   "execution_count": 74,
   "id": "a7a92b45-d8dc-41aa-950e-357d5db260ac",
   "metadata": {},
   "outputs": [],
   "source": [
    "circle1=circle(\"Red\",\"40 cm\",\"20cm\",\"3\")"
   ]
  },
  {
   "cell_type": "code",
   "execution_count": 75,
   "id": "2d5292fd-3a37-4df1-ae51-8a29f510f31a",
   "metadata": {},
   "outputs": [
    {
     "name": "stdout",
     "output_type": "stream",
     "text": [
      "The colour of circle is Red  and border type is 40 cm length of circle 20cm  and the radious is 3\n"
     ]
    }
   ],
   "source": [
    "circle1.display()"
   ]
  },
  {
   "cell_type": "code",
   "execution_count": 93,
   "id": "4f0169e7-e773-4bef-9c4b-7f4fd302c334",
   "metadata": {},
   "outputs": [],
   "source": [
    "class Employee():\n",
    "    def __init__(self,name,salary):\n",
    "        self.name=name\n",
    "        self.salary=salary\n",
    "class manager(Employee):\n",
    "    def __init__(self,name,salary,department):\n",
    "        super().__init__(name,salary)\n",
    "        self.department=department\n",
    "    def display(self):\n",
    "        print(f\"The name of the manager is {self.name} and His salary is {self.salary} and depertment is {self.department}\")\n",
    "class Devoloper(Employee):\n",
    "    def __init__(self,name,salary,programming_language):\n",
    "        super().__init__(name,salary)\n",
    "        self.programming_language=programming_language\n",
    "    def display_info(self):\n",
    "        print(f\"The name of the devoloper is {self.name} and His salary is {self.salary}  recently he work with {self.programming_language}\")\n",
    "                \n",
    "        \n",
    "    "
   ]
  },
  {
   "cell_type": "code",
   "execution_count": 94,
   "id": "fcbf3278-dcba-46ba-82d3-b62d575abaf8",
   "metadata": {},
   "outputs": [],
   "source": [
    "devoloper1=Devoloper(\"Ayan Biwas\",\"25000\",\"Data science\")"
   ]
  },
  {
   "cell_type": "code",
   "execution_count": 95,
   "id": "8556970e-915e-499c-9e43-47820bb148b8",
   "metadata": {},
   "outputs": [
    {
     "name": "stdout",
     "output_type": "stream",
     "text": [
      "The name of the devoloper is Ayan Biwas and His salary is 25000  recently he work with Data science\n"
     ]
    }
   ],
   "source": [
    "devoloper1.display_info()"
   ]
  },
  {
   "cell_type": "code",
   "execution_count": 96,
   "id": "b3a8c1ef-de76-4cda-bf56-52f1cdc7b7d3",
   "metadata": {},
   "outputs": [],
   "source": [
    "manager1=manager(\"Rahul Das\",\"90000\",\"ECE\")"
   ]
  },
  {
   "cell_type": "code",
   "execution_count": 97,
   "id": "238d2211-6c01-4f76-9de5-a74132dd5193",
   "metadata": {},
   "outputs": [
    {
     "name": "stdout",
     "output_type": "stream",
     "text": [
      "The name of the manager is Rahul Das and His salary is 90000 and depertment is ECE\n"
     ]
    }
   ],
   "source": [
    "manager1.display()"
   ]
  },
  {
   "cell_type": "markdown",
   "id": "e01fb5ad-39cd-4f18-a199-426337de1226",
   "metadata": {},
   "source": [
    "1.Explain what inheritance is in object-oriented programming and why it is used."
   ]
  },
  {
   "cell_type": "markdown",
   "id": "3d8ace89-84cf-43e8-9cfb-bcabf7f4ef0a",
   "metadata": {},
   "source": [
    "Inheritance is a fundamental concept in object-oriented programming (OOP) that enables a new class to inherit properties and behaviors from an existing class. It's a mechanism for code reuse and establishing relationships between classes."
   ]
  },
  {
   "cell_type": "code",
   "execution_count": null,
   "id": "9313cb30-9603-4259-bb54-fa001b5bce83",
   "metadata": {},
   "outputs": [],
   "source": [
    "2.Discuss the concept of single inheritance and multiple inheritance, highlighting their\n",
    "differences and advantages."
   ]
  },
  {
   "cell_type": "markdown",
   "id": "55752e6c-94d1-4d6e-95bd-661b767cda89",
   "metadata": {},
   "source": []
  },
  {
   "cell_type": "code",
   "execution_count": null,
   "id": "4224f0d6-2b14-4e02-8c70-ef1072b967a4",
   "metadata": {},
   "outputs": [],
   "source": [
    "3.Explain the terms \"base class\" and \"derived class\" in the context of inheritance."
   ]
  },
  {
   "cell_type": "markdown",
   "id": "d08a1637-1279-4ffb-84c0-e3daea379854",
   "metadata": {},
   "source": [
    "In object-oriented programming, inheritance allows new classes to be created by reusing, extending, and modifying the behavior of existing classes. The existing class is called the base class, parent class, or superclass, and the new class is called the derived class, subclass, or child class."
   ]
  },
  {
   "cell_type": "code",
   "execution_count": null,
   "id": "dc942232-99a8-4bca-945e-b1227ee8d00b",
   "metadata": {},
   "outputs": [],
   "source": [
    "5. What is the purpose of the \"super\" keyword in inheritance? Provide an example."
   ]
  },
  {
   "cell_type": "markdown",
   "id": "03ca9335-e8fd-4883-b45b-1fd087e18f80",
   "metadata": {},
   "source": [
    "Super is a keywoard use for inherite in child class  from parient class"
   ]
  },
  {
   "cell_type": "code",
   "execution_count": null,
   "id": "5b859ae3-bf87-4ad7-8811-490e2db210d0",
   "metadata": {},
   "outputs": [],
   "source": [
    "Create a base class called \"BankAccount\" with attributes like \"account_number\" and\n",
    "\"balance.\" Derive two classes, \"SavingsAccount\" and \"CheckingAccount,\" from\n",
    "\"BankAccount.\" Add specific methods like \"calculate_interest\" for the\n",
    "\"SavingsAccount\" class and \"deduct_fees\" for the \"CheckingAccount\" class."
   ]
  },
  {
   "cell_type": "code",
   "execution_count": 11,
   "id": "21fcd12f-7fdf-400f-a8c4-7486b448868b",
   "metadata": {},
   "outputs": [],
   "source": [
    "class BankAccount():\n",
    "    def __init__(self,account_number,balance):\n",
    "        self.account_number=account_number\n",
    "        self.balance=balance\n",
    "class savingaccount(BankAccount):\n",
    "    def __init__(self,account_number,balance):\n",
    "        super().__init__(account_number,balance)\n",
    "    def calculate_interest(self):\n",
    "        print(f\"accout number is {self.account_number} and total balance is {self.balance}\")\n",
    "class Checkingaccount(BankAccount):\n",
    "    def __init__(self,account_number,balance):\n",
    "        super().__init__(account_number,balance)\n",
    "    def deduct_fees(self):\n",
    "        print(f\"The account number is {self.account_number} and ducted bance is {self.balance}\")\n",
    "    \n",
    "    \n"
   ]
  },
  {
   "cell_type": "code",
   "execution_count": 12,
   "id": "237f5a6e-29b1-4604-bd73-a6107800e737",
   "metadata": {},
   "outputs": [],
   "source": [
    "account=Checkingaccount(\"3940134943\",\"67000\")"
   ]
  },
  {
   "cell_type": "code",
   "execution_count": 13,
   "id": "48455e3e-d15a-46b5-bea6-33e0b1d0ae74",
   "metadata": {},
   "outputs": [
    {
     "name": "stdout",
     "output_type": "stream",
     "text": [
      "The account number is 3940134943 and ducted bance is 67000\n"
     ]
    }
   ],
   "source": [
    "account.deduct_fees()"
   ]
  },
  {
   "cell_type": "code",
   "execution_count": null,
   "id": "eab46b5c-6c06-4bd3-be1d-d27c239d0062",
   "metadata": {},
   "outputs": [],
   "source": []
  }
 ],
 "metadata": {
  "kernelspec": {
   "display_name": "Python 3 (ipykernel)",
   "language": "python",
   "name": "python3"
  },
  "language_info": {
   "codemirror_mode": {
    "name": "ipython",
    "version": 3
   },
   "file_extension": ".py",
   "mimetype": "text/x-python",
   "name": "python",
   "nbconvert_exporter": "python",
   "pygments_lexer": "ipython3",
   "version": "3.11.7"
  }
 },
 "nbformat": 4,
 "nbformat_minor": 5
}
